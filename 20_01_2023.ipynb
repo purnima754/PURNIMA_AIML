{
  "nbformat": 4,
  "nbformat_minor": 0,
  "metadata": {
    "colab": {
      "provenance": [],
      "authorship_tag": "ABX9TyM/LN30fjymDG4u4ETy+7MQ",
      "include_colab_link": true
    },
    "kernelspec": {
      "name": "python3",
      "display_name": "Python 3"
    },
    "language_info": {
      "name": "python"
    }
  },
  "cells": [
    {
      "cell_type": "markdown",
      "metadata": {
        "id": "view-in-github",
        "colab_type": "text"
      },
      "source": [
        "<a href=\"https://colab.research.google.com/github/purnima754/PURNIMA_AIML/blob/main/20_01_2023.ipynb\" target=\"_parent\"><img src=\"https://colab.research.google.com/assets/colab-badge.svg\" alt=\"Open In Colab\"/></a>"
      ]
    },
    {
      "cell_type": "code",
      "execution_count": 1,
      "metadata": {
        "colab": {
          "base_uri": "https://localhost:8080/"
        },
        "id": "O91a2RqrS2uV",
        "outputId": "c342bc28-1cc7-4aa0-9f71-130629c9c012"
      },
      "outputs": [
        {
          "output_type": "stream",
          "name": "stdout",
          "text": [
            "hello world\n"
          ]
        }
      ],
      "source": [
        "print('hello world')"
      ]
    },
    {
      "cell_type": "code",
      "source": [
        "a=2\n",
        "b=5\n",
        "print(2**5)"
      ],
      "metadata": {
        "colab": {
          "base_uri": "https://localhost:8080/"
        },
        "id": "iXYMJcFQUVTa",
        "outputId": "287378db-066b-4726-d0bb-a8036408fc0d"
      },
      "execution_count": 2,
      "outputs": [
        {
          "output_type": "stream",
          "name": "stdout",
          "text": [
            "32\n"
          ]
        }
      ]
    },
    {
      "cell_type": "code",
      "source": [
        "#using/and//\n",
        "a=8\n",
        "b=3\n",
        "print(a/b)\n",
        "print(a//b)"
      ],
      "metadata": {
        "colab": {
          "base_uri": "https://localhost:8080/"
        },
        "id": "Cbl5O9sXVJ4b",
        "outputId": "625a6d75-2a05-4537-fda6-de4cedd1d4ed"
      },
      "execution_count": 3,
      "outputs": [
        {
          "output_type": "stream",
          "name": "stdout",
          "text": [
            "2.6666666666666665\n",
            "2\n"
          ]
        }
      ]
    },
    {
      "cell_type": "code",
      "source": [
        "a=True\n",
        "b=True\n",
        "c=False\n",
        "print(a and b)\n",
        "print(a and c)\n",
        "print(a or b)\n",
        "print(not c)"
      ],
      "metadata": {
        "colab": {
          "base_uri": "https://localhost:8080/"
        },
        "id": "-CSHn_iRWp-1",
        "outputId": "0c667727-be04-44b3-f99f-22de5ec43cdf"
      },
      "execution_count": 4,
      "outputs": [
        {
          "output_type": "stream",
          "name": "stdout",
          "text": [
            "True\n",
            "False\n",
            "True\n",
            "True\n"
          ]
        }
      ]
    },
    {
      "cell_type": "code",
      "source": [
        "a=5\n",
        "b=2\n",
        "print(a<<b)"
      ],
      "metadata": {
        "colab": {
          "base_uri": "https://localhost:8080/"
        },
        "id": "jJ6A_S4gX1Kf",
        "outputId": "8e3a775e-1ae9-4bfb-d1b6-8c1997d55f6d"
      },
      "execution_count": 5,
      "outputs": [
        {
          "output_type": "stream",
          "name": "stdout",
          "text": [
            "20\n"
          ]
        }
      ]
    },
    {
      "cell_type": "code",
      "source": [],
      "metadata": {
        "id": "COyAhBzZYDIf"
      },
      "execution_count": null,
      "outputs": []
    },
    {
      "cell_type": "code",
      "source": [],
      "metadata": {
        "id": "Pk-6kpXoVpaK"
      },
      "execution_count": null,
      "outputs": []
    },
    {
      "cell_type": "code",
      "source": [
        "# Using ASSIGNMENT operator\n",
        "a=5\n",
        "a+=5\n",
        "print(a)\n",
        "a-=5\n",
        "print(a)\n",
        "a*=5\n",
        "print(a)\n",
        "a/=5\n",
        "print(a)\n",
        "a%=5\n",
        "print(a)\n",
        "a//=5\n",
        "print(a)"
      ],
      "metadata": {
        "colab": {
          "base_uri": "https://localhost:8080/"
        },
        "id": "InHxiqeOY51_",
        "outputId": "2ca829a9-05a5-485b-8997-e2500aafd223"
      },
      "execution_count": 8,
      "outputs": [
        {
          "output_type": "stream",
          "name": "stdout",
          "text": [
            "10\n",
            "5\n",
            "25\n",
            "5.0\n",
            "0.0\n",
            "0.0\n"
          ]
        }
      ]
    },
    {
      "cell_type": "code",
      "source": [
        "x=5\n",
        "y=5\n",
        "print(x is y)\n",
        "y=6\n",
        "print(x is not y)"
      ],
      "metadata": {
        "colab": {
          "base_uri": "https://localhost:8080/"
        },
        "id": "8_rZuKbXbK5H",
        "outputId": "f39f665a-6822-45df-f125-d10633815580"
      },
      "execution_count": 11,
      "outputs": [
        {
          "output_type": "stream",
          "name": "stdout",
          "text": [
            "True\n",
            "True\n"
          ]
        }
      ]
    },
    {
      "cell_type": "code",
      "source": [
        "x=('hello')\n",
        "print('A' in x)"
      ],
      "metadata": {
        "colab": {
          "base_uri": "https://localhost:8080/"
        },
        "id": "_5K7Xj18aImo",
        "outputId": "78966364-1cef-44ea-a09f-bf57897311cf"
      },
      "execution_count": 12,
      "outputs": [
        {
          "output_type": "stream",
          "name": "stdout",
          "text": [
            "False\n"
          ]
        }
      ]
    },
    {
      "cell_type": "code",
      "source": [
        "#Using if statement in PYTHON\n",
        "a=int(input('Enter a no'))\n",
        "if a%2=0;\n",
        "print('Even No= ',a)"
      ],
      "metadata": {
        "id": "lVPBzhV7d-sN",
        "outputId": "54e01d57-6e6a-4a48-95e6-49c1e57ebe02",
        "colab": {
          "base_uri": "https://localhost:8080/",
          "height": 131
        }
      },
      "execution_count": 15,
      "outputs": [
        {
          "output_type": "error",
          "ename": "SyntaxError",
          "evalue": "ignored",
          "traceback": [
            "\u001b[0;36m  File \u001b[0;32m\"<ipython-input-15-ab61aa910dbe>\"\u001b[0;36m, line \u001b[0;32m3\u001b[0m\n\u001b[0;31m    if a%2=0;\u001b[0m\n\u001b[0m          ^\u001b[0m\n\u001b[0;31mSyntaxError\u001b[0m\u001b[0;31m:\u001b[0m invalid syntax\n"
          ]
        }
      ]
    },
    {
      "cell_type": "code",
      "source": [
        "#Using if-else Statement in PYTHON\n",
        "a=int(input('Enter a number'))\n",
        "if a%2==0:\n",
        "  print('even no = ',a)\n",
        "else:\n",
        "    print('Odd no =',a)"
      ],
      "metadata": {
        "id": "mAEeRRL9e1vB",
        "outputId": "0b026fe8-3932-47b1-b6a7-592ccfacb18b",
        "colab": {
          "base_uri": "https://localhost:8080/"
        }
      },
      "execution_count": 2,
      "outputs": [
        {
          "output_type": "stream",
          "name": "stdout",
          "text": [
            "Enter a number5\n",
            "Odd no = 5\n"
          ]
        }
      ]
    },
    {
      "cell_type": "code",
      "source": [
        "#Using if- elif statement\n",
        "number=int(input(\"enter the number?\"))\n",
        "if number==10:\n",
        "  print(\"number is equals to 10\")\n",
        "elif number==50:\n",
        "  print(\"number is equals to 50\")\n",
        "elif number==500:\n",
        "  print (\"number is equals to 500\")\n",
        "else:\n",
        "  print(\"number doesnot match\")"
      ],
      "metadata": {
        "id": "4UqTMmozgdV8",
        "outputId": "e24f8fed-6d6f-4007-f0fc-a516fee42ed6",
        "colab": {
          "base_uri": "https://localhost:8080/"
        }
      },
      "execution_count": 3,
      "outputs": [
        {
          "output_type": "stream",
          "name": "stdout",
          "text": [
            "enter the number?500\n",
            "number is equals to 500\n"
          ]
        }
      ]
    },
    {
      "cell_type": "code",
      "source": [
        "#Using for statement\n",
        "x='abit'\n",
        "for i in x:\n",
        "  print(i)"
      ],
      "metadata": {
        "id": "yf32H4Yoijt2",
        "outputId": "774143d3-d225-4257-ff6e-8150e96e0f0f",
        "colab": {
          "base_uri": "https://localhost:8080/"
        }
      },
      "execution_count": 4,
      "outputs": [
        {
          "output_type": "stream",
          "name": "stdout",
          "text": [
            "a\n",
            "b\n",
            "i\n",
            "t\n"
          ]
        }
      ]
    }
  ]
}